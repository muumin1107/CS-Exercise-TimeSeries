{
 "cells": [
  {
   "cell_type": "markdown",
   "id": "9f3eb2f4",
   "metadata": {},
   "source": [
    "# 時系列パート（基礎編：データ可視化の基礎）\n",
    "ここでは，カフェの顧客データ（`cafe_customers.csv`）を使用してデータ可視化のスキルを学習します."
   ]
  },
  {
   "cell_type": "markdown",
   "id": "7ed3c3f5",
   "metadata": {},
   "source": [
    "## 必要なライブラリのインポート\n",
    "**matplotlib.pyplot (plt)**\n",
    "- **役割**: 基本的なグラフ作成・細かいカスタマイズ\n",
    "- **特徴**: 低レベルAPI，完全制御可能，論文品質の図表作成に適用\n",
    "- **用途**: 軸の詳細設定，複数グラフの配置，出版用図表\n",
    "\n",
    "**seaborn (sns)**\n",
    "- **役割**: 統計的可視化・美しいデフォルトスタイル\n",
    "- **特徴**: 高レベルAPI，統計情報の自動計算・表示\n",
    "- **用途**: 探索的データ分析，プレゼンテーション用グラフ"
   ]
  },
  {
   "cell_type": "code",
   "execution_count": null,
   "id": "c3e908b8",
   "metadata": {},
   "outputs": [],
   "source": [
    "import pandas as pd\n",
    "import matplotlib.pyplot as plt\n",
    "import seaborn as sns\n",
    "\n",
    "# 警告メッセージを非表示にするライブラリ・設定\n",
    "import warnings\n",
    "warnings.filterwarnings('ignore')"
   ]
  },
  {
   "cell_type": "markdown",
   "id": "606ec770",
   "metadata": {},
   "source": [
    "## データの読み込みと前処理"
   ]
  },
  {
   "cell_type": "code",
   "execution_count": null,
   "id": "b1e46acc",
   "metadata": {},
   "outputs": [],
   "source": [
    "# データの読み込みと前処理\n",
    "df = pd.read_csv('../data/raw/cafe_customers.csv')\n",
    "\n",
    "# 時系列処理\n",
    "df['Timestamp']   = pd.to_datetime(df['Timestamp'])\n",
    "df['Date']        = df['Timestamp'].dt.date\n",
    "df['Hour']        = df['Timestamp'].dt.hour\n",
    "df['DayOfWeek']   = df['Timestamp'].dt.dayofweek\n",
    "df['WeekdayName'] = df['Timestamp'].dt.day_name()\n",
    "df['IsWeekend']   = df['DayOfWeek'].isin([5, 6])\n",
    "df['DayType']     = df['IsWeekend'].map({True: 'Weekend', False: 'Weekday'})\n",
    "\n",
    "# TimeStampをインデックスに設定\n",
    "df_indexed = df.set_index('Timestamp')"
   ]
  },
  {
   "cell_type": "markdown",
   "id": "f74a619d",
   "metadata": {},
   "source": [
    "## 時系列データの可視化\n",
    "\n",
    "### グラフスタイルとサイズの最適化"
   ]
  },
  {
   "cell_type": "code",
   "execution_count": null,
   "id": "85a3cde3",
   "metadata": {},
   "outputs": [],
   "source": [
    "# グラフのサイズとスタイル設定\n",
    "plt.style.use('seaborn-v0_8')\n",
    "plt.rcParams['figure.figsize'] = (12, 8)"
   ]
  },
  {
   "cell_type": "markdown",
   "id": "84ae3778",
   "metadata": {},
   "source": [
    "### 1時間ごとの客数推移を可視化"
   ]
  },
  {
   "cell_type": "code",
   "execution_count": null,
   "id": "4be1bd0a",
   "metadata": {},
   "outputs": [],
   "source": [
    "# 1時間ごとの客数推移を作成\n",
    "hourly_customers = df_indexed.resample('H')['Customers'].sum()\n",
    "print(hourly_customers.head())"
   ]
  },
  {
   "cell_type": "code",
   "execution_count": null,
   "id": "394edb63",
   "metadata": {},
   "outputs": [],
   "source": [
    "# 可視化（折れ線グラフ）\n",
    "plt.figure(figsize=(15, 6))\n",
    "plt.plot(hourly_customers.index, hourly_customers.values, linewidth=1, alpha=0.8)\n",
    "plt.title('Customer Count Over Time (Hourly)', fontsize=16, fontweight='bold')\n",
    "plt.xlabel('Date', fontsize=12)\n",
    "plt.ylabel('Number of Customers', fontsize=12)\n",
    "plt.xticks(rotation=45)\n",
    "plt.grid(True, alpha=0.3)\n",
    "plt.tight_layout()\n",
    "plt.show()"
   ]
  },
  {
   "cell_type": "markdown",
   "id": "65012d9d",
   "metadata": {},
   "source": [
    "### 1週間ごとの客数推移を可視化"
   ]
  },
  {
   "cell_type": "code",
   "execution_count": null,
   "id": "998907a8",
   "metadata": {},
   "outputs": [],
   "source": [
    "# 1週間ごとの客数推移を作成\n",
    "weekly_customers = df_indexed.resample('W')['Customers'].sum()\n",
    "print(weekly_customers.head())"
   ]
  },
  {
   "cell_type": "code",
   "execution_count": null,
   "id": "95804df3",
   "metadata": {},
   "outputs": [],
   "source": [
    "# 可視化（折れ線グラフ）\n",
    "plt.figure(figsize=(15, 6))\n",
    "plt.plot(weekly_customers.index, weekly_customers.values, marker='o', linewidth=2, markersize=6, color='green')\n",
    "plt.title('Weekly Customer Count', fontsize=14, fontweight='bold')\n",
    "plt.xlabel('Date')\n",
    "plt.ylabel('Weekly Total Customers')\n",
    "plt.grid(True, alpha=0.3)\n",
    "plt.tight_layout()\n",
    "plt.show()"
   ]
  },
  {
   "cell_type": "markdown",
   "id": "e7dc5118",
   "metadata": {},
   "source": [
    "### 時間帯別分析の可視化\n",
    "\n",
    "#### 棒グラフ（Bar Chart）と 散布図（Scatter Plot）の使い分け\n",
    "\n",
    "**棒グラフの特徴**:\n",
    "- **カテゴリ別比較**: 時間帯（離散値）ごとの平均値比較に最適\n",
    "- **視覚的インパクト**: 差異を明確に表現\n",
    "- **統計的意味**: 各時間帯の代表値（平均）を強調\n",
    "\n",
    "**散布図の特徴**:\n",
    "- **生データの分布**: 実際のデータ点の散らばりを表示\n",
    "- **異常値検出**: 平均から大きく外れる値を発見\n",
    "- **分散の把握**: データのばらつき具合を視覚的に理解"
   ]
  },
  {
   "cell_type": "code",
   "execution_count": null,
   "id": "efe3baa7",
   "metadata": {},
   "outputs": [],
   "source": [
    "# 時間帯別の平均客数を作成\n",
    "hourly_stats = df.groupby('Hour')['Customers'].mean()\n",
    "print(hourly_stats.head())"
   ]
  },
  {
   "cell_type": "code",
   "execution_count": null,
   "id": "25cd1f68",
   "metadata": {},
   "outputs": [],
   "source": [
    "# 可視化（棒グラフ）\n",
    "plt.figure(figsize=(15, 6))\n",
    "plt.bar(hourly_stats.index, hourly_stats.values, color='skyblue', alpha=0.8, edgecolor='navy', linewidth=1)\n",
    "plt.title('Average Customer Count by Hour of Day', fontsize=16, fontweight='bold')\n",
    "plt.xlabel('Hour of Day')\n",
    "plt.ylabel('Average Number of Customers')\n",
    "plt.grid(True, alpha=0.3, axis='y')\n",
    "plt.tight_layout()\n",
    "plt.show()"
   ]
  },
  {
   "cell_type": "code",
   "execution_count": null,
   "id": "f1e8f8ba",
   "metadata": {},
   "outputs": [],
   "source": [
    "# 可視化（散布図）\n",
    "plt.figure(figsize=(15, 6))\n",
    "plt.scatter(df['Hour'], df['Customers'], alpha=0.5, s=10)\n",
    "plt.title('Customer Count vs Hour of Day')\n",
    "plt.xlabel('Hour of Day')\n",
    "plt.ylabel('Number of Customers')\n",
    "plt.grid(True, alpha=0.3)\n",
    "plt.tight_layout()\n",
    "plt.show()"
   ]
  },
  {
   "cell_type": "markdown",
   "id": "53cdb840",
   "metadata": {},
   "source": [
    "### 曜日別分析の可視化\n",
    "\n",
    "#### 多次元時系列データの可視化戦略\n",
    "\n",
    "この分析では**曜日×時間帯**の2次元データを以下の手法で可視化します：\n",
    "\n",
    "**1. 多系列折れ線グラフ**\n",
    "- **目的**: 曜日ごとの時間変化パターンを同時比較\n",
    "- **利点**: 各曜日の特徴的な変動を一目で把握\n",
    "\n",
    "**2. ヒートマップ**\n",
    "- **目的**: 全体パターンの俯瞰的把握\n",
    "- **利点**: 「平日の午後」「週末の夜」など具体的なシーンでの値を直観的に理解"
   ]
  },
  {
   "cell_type": "code",
   "execution_count": null,
   "id": "4d3b2e2c",
   "metadata": {},
   "outputs": [],
   "source": [
    "# 曜日×時間帯の客数平均を作成\n",
    "hourly_by_day = df.groupby(['WeekdayName', 'Hour'])['Customers'].mean().unstack(level=0)\n",
    "hourly_by_day.head()"
   ]
  },
  {
   "cell_type": "code",
   "execution_count": null,
   "id": "75cb39aa",
   "metadata": {},
   "outputs": [],
   "source": [
    "# 可視化（折れ線グラフ）\n",
    "plt.figure(figsize=(15, 6))\n",
    "for day in hourly_by_day.columns:\n",
    "    plt.plot(hourly_by_day.index, hourly_by_day[day], marker='o', linewidth=2, label=day, alpha=0.8)\n",
    "plt.title('Customer Count by Hour for Each Day of Week', fontsize=16, fontweight='bold')\n",
    "plt.xlabel('Hour of Day')\n",
    "plt.ylabel('Average Number of Customers')\n",
    "plt.legend(bbox_to_anchor=(1.05, 1), loc='upper left')\n",
    "plt.grid(True, alpha=0.3)\n",
    "plt.tight_layout()\n",
    "plt.show()"
   ]
  },
  {
   "cell_type": "code",
   "execution_count": null,
   "id": "29ef6eda",
   "metadata": {},
   "outputs": [],
   "source": [
    "# 可視化（ヒートマップ）\n",
    "plt.figure(figsize=(15, 6))\n",
    "sns.heatmap(hourly_by_day.T, annot=True, fmt='.1f', cmap='YlOrRd', cbar_kws={'label': 'Average Customers'})\n",
    "plt.title('Customer Count Heatmap: Day of Week vs Hour', fontsize=16, fontweight='bold')\n",
    "plt.xlabel('Hour of Day')\n",
    "plt.ylabel('Day of Week')\n",
    "plt.tight_layout()\n",
    "plt.show()"
   ]
  },
  {
   "cell_type": "markdown",
   "id": "c35d763a",
   "metadata": {},
   "source": [
    "### 箱ひげ図による営業時間のみの顧客数の可視化\n",
    "\n",
    "#### 箱ひげ図（Box Plot）の統計学的意義\n",
    "\n",
    "箱ひげ図は**5数要約**（最小値，第1四分位数，中央値，第3四分位数，最大値）を視覚化し，分布の特徴を包括的に把握できます：\n",
    "\n",
    "**箱ひげ図から読み取れる情報**:\n",
    "- **中央値**: データの中心傾向（平均値より外れ値に頑健）\n",
    "- **四分位範囲（箱の高さ）**: データの50%が含まれる範囲\n",
    "- **ひげの長さ**: データの広がり具合\n",
    "- **外れ値**: 異常に高い/低い値の存在"
   ]
  },
  {
   "cell_type": "code",
   "execution_count": null,
   "id": "be2d8a48",
   "metadata": {},
   "outputs": [],
   "source": [
    "# 営業時間（7時～21時）の客数分布を作成\n",
    "business_hours_df = df[(df['Hour'] >= 7) & (df['Hour'] <= 21)]\n",
    "hourly_groups     = [business_hours_df[business_hours_df['Hour'] == h]['Customers'].values for h in range(7, 22)]"
   ]
  },
  {
   "cell_type": "code",
   "execution_count": null,
   "id": "487f576e",
   "metadata": {},
   "outputs": [],
   "source": [
    "# 可視化（箱ひげ図）\n",
    "plt.figure(figsize=(15, 6))\n",
    "plt.boxplot(hourly_groups, labels=range(7, 22))\n",
    "plt.title('Customer Count Distribution by Hour')\n",
    "plt.xlabel('Hour of Day')\n",
    "plt.ylabel('Number of Customers')\n",
    "plt.xticks(rotation=45)\n",
    "plt.grid(True, alpha=0.3)\n",
    "plt.tight_layout()\n",
    "plt.show()"
   ]
  },
  {
   "cell_type": "markdown",
   "id": "fd1807d9",
   "metadata": {},
   "source": [
    "## 演習問題"
   ]
  },
  {
   "cell_type": "markdown",
   "id": "1e894048",
   "metadata": {},
   "source": [
    "### 演習1: 営業時間（7-21時）の時間帯別平均客数を可視化してください"
   ]
  },
  {
   "cell_type": "markdown",
   "id": "5cd86175",
   "metadata": {},
   "source": [
    "💡ヒント:\n",
    "1. 営業時間（7:00-21:00）でフィルタリング\n",
    "2. 時間帯別の平均客数を計算"
   ]
  },
  {
   "cell_type": "code",
   "execution_count": null,
   "id": "494af2df",
   "metadata": {},
   "outputs": [],
   "source": [
    "# 回答欄"
   ]
  },
  {
   "cell_type": "markdown",
   "id": "1735fccb",
   "metadata": {},
   "source": [
    "### 演習2: 曜日別の平均客数を可視化してください"
   ]
  },
  {
   "cell_type": "code",
   "execution_count": null,
   "id": "31f55b78",
   "metadata": {},
   "outputs": [],
   "source": [
    "# 回答欄"
   ]
  }
 ],
 "metadata": {
  "kernelspec": {
   "display_name": ".myvenv",
   "language": "python",
   "name": "python3"
  },
  "language_info": {
   "codemirror_mode": {
    "name": "ipython",
    "version": 3
   },
   "file_extension": ".py",
   "mimetype": "text/x-python",
   "name": "python",
   "nbconvert_exporter": "python",
   "pygments_lexer": "ipython3",
   "version": "3.10.12"
  }
 },
 "nbformat": 4,
 "nbformat_minor": 5
}
