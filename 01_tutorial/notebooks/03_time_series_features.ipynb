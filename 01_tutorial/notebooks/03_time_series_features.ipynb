{
 "cells": [
  {
   "cell_type": "markdown",
   "id": "1fccd95c",
   "metadata": {},
   "source": [
    "# 時系列パート（基礎編：特徴量エンジニアリング）\n",
    "\n",
    "ここでは，カフェの顧客データ（`cafe_customers.csv`）を使用して，機械学習の精度を向上させるための特徴量の作成（特徴量エンジニアリング）について学習します．\n"
   ]
  },
  {
   "cell_type": "markdown",
   "id": "297e924d",
   "metadata": {},
   "source": [
    "## 必要なライブラリのインポート"
   ]
  },
  {
   "cell_type": "code",
   "execution_count": null,
   "id": "6d0c0a1c",
   "metadata": {},
   "outputs": [],
   "source": [
    "import pandas as pd\n",
    "import numpy as np\n",
    "import matplotlib.pyplot as plt\n",
    "from sklearn.preprocessing import StandardScaler\n",
    "from sklearn.feature_selection import mutual_info_regression\n",
    "\n",
    "# 警告メッセージを非表示にするライブラリ・設定\n",
    "import warnings\n",
    "warnings.filterwarnings('ignore')"
   ]
  },
  {
   "cell_type": "markdown",
   "id": "0a4c4086",
   "metadata": {},
   "source": [
    "## データの読み込みと前処理"
   ]
  },
  {
   "cell_type": "markdown",
   "id": "bac9796c",
   "metadata": {},
   "source": [
    "### データセットについて\n",
    "時系列予測では，これらの特性を特徴量として抽出することで，モデルの予測精度を大幅に向上させることができます．"
   ]
  },
  {
   "cell_type": "code",
   "execution_count": null,
   "id": "86f13c52",
   "metadata": {},
   "outputs": [],
   "source": [
    "# データの読み込み\n",
    "df = pd.read_csv('../data/raw/cafe_customers.csv')\n",
    "\n",
    "# Timestampをdatetime型に変換\n",
    "df['Timestamp'] = pd.to_datetime(df['Timestamp'])\n",
    "print(df.head())"
   ]
  },
  {
   "cell_type": "markdown",
   "id": "91c5266f",
   "metadata": {},
   "source": [
    "## 基本的な時系列特徴量の作成"
   ]
  },
  {
   "cell_type": "markdown",
   "id": "6dacf3ea",
   "metadata": {},
   "source": [
    "### 時間特徴量の重要性\n",
    "\n",
    "時系列データにおいて，時間そのものが強力な予測因子となります．人間の行動には規則的なパターンがあり，それを特徴量として抽出することで予測精度を向上させることができます．\n",
    "\n",
    "**主要な時間特徴量の種類：**\n",
    "\n",
    "1. **基本時間情報**\n",
    "   - `hour`: 時間帯による顧客数の変化（朝・昼・夕方・夜の違い）\n",
    "   - `day_of_week`: 曜日による違い（平日 vs 週末）\n",
    "   - `month`: 季節性（夏休み，年末年始など）\n",
    "\n",
    "2. **カテゴリカル特徴量**\n",
    "   - `is_weekend`: 週末フラグ（0: 平日, 1: 週末）\n",
    "   - `is_business_hour`: 営業時間フラグ\n",
    "   - `is_lunch_time`: ランチタイムフラグ\n",
    "\n",
    "これらの特徴量により，「金曜日の夕方は顧客数が多い」「月曜日の朝は少ない」といったパターンを機械学習モデルが学習できるようになります．"
   ]
  },
  {
   "cell_type": "code",
   "execution_count": null,
   "id": "1da9fa7a",
   "metadata": {},
   "outputs": [],
   "source": [
    "def create_basic_time_features(df):\n",
    "    \"\"\"基本的な時間特徴量を作成する関数\"\"\"\n",
    "    # コピーを作成\n",
    "    df = df.copy()\n",
    "\n",
    "    # 時間関連の特徴量\n",
    "    df['hour']         = df['Timestamp'].dt.hour               # 0-23\n",
    "    df['day_of_week']  = df['Timestamp'].dt.dayofweek          # 0-6 (月曜日=0, 日曜日=6)\n",
    "    df['day_of_month'] = df['Timestamp'].dt.day                # 1-31\n",
    "    df['day_of_year']  = df['Timestamp'].dt.dayofyear          # 1-365 (閏年は366)\n",
    "    df['week_of_year'] = df['Timestamp'].dt.isocalendar().week # 1-52\n",
    "    df['month']        = df['Timestamp'].dt.month              # 1-12\n",
    "    df['quarter']      = df['Timestamp'].dt.quarter            # 1-4\n",
    "    \n",
    "    # カテゴリカル特徴量\n",
    "    df['is_weekend']       = (df['day_of_week'] >= 5).astype(int)\n",
    "    df['is_business_hour'] = ((df['hour'] >= 7) & (df['hour'] <= 21)).astype(int)\n",
    "    df['is_lunch_time']    = ((df['hour'] >= 11) & (df['hour'] <= 14)).astype(int)\n",
    "    df['is_dinner_time']   = ((df['hour'] >= 17) & (df['hour'] <= 20)).astype(int)\n",
    "    \n",
    "    return df"
   ]
  },
  {
   "cell_type": "code",
   "execution_count": null,
   "id": "74ecfc2d",
   "metadata": {},
   "outputs": [],
   "source": [
    "# 基本的な時間特徴量の作成\n",
    "feature_df = create_basic_time_features(df)\n",
    "feature_df.head()"
   ]
  },
  {
   "cell_type": "markdown",
   "id": "a0f5741e",
   "metadata": {},
   "source": [
    "## ラグ特徴量の作成"
   ]
  },
  {
   "cell_type": "markdown",
   "id": "78624379",
   "metadata": {},
   "source": [
    "### ラグ特徴量とは？\n",
    "\n",
    "ラグ特徴量（Lag Features）は，過去の値を現在の予測に使用する重要な時系列特徴量です．\n",
    "\n",
    "**基本概念：**\n",
    "- `lag_1h`: 1時間前の顧客数\n",
    "- `lag_24h`: 24時間前（1日前）の顧客数  \n",
    "- `lag_168h`: 168時間前（1週間前）の顧客数\n",
    "\n",
    "**なぜラグ特徴量が重要なのか？**\n",
    "\n",
    "1. **時系列の自己相関**: 過去の値と現在の値には相関がある\n",
    "2. **短期トレンドの捕捉**: 直前の値から短期的な変化を予測\n",
    "3. **周期性の活用**: 1日前，1週間前の同じ時間帯の値は参考になる"
   ]
  },
  {
   "cell_type": "code",
   "execution_count": null,
   "id": "aa8de4bb",
   "metadata": {},
   "outputs": [],
   "source": [
    "# ラグ特徴量を作成\n",
    "def create_lag_features(df, target_col='Customers', lags=[1, 2, 3, 24, 48, 168]):\n",
    "    \"\"\"ラグ特徴量を作成する関数\"\"\"\n",
    "    # コピーを作成\n",
    "    df = df.copy()\n",
    "    \n",
    "    # ラグ特徴量の作成（1h前，2h前，...，168h前）\n",
    "    for lag in lags:\n",
    "        df[f'{target_col}_lag_{lag}h'] = df[target_col].shift(lag)\n",
    "    \n",
    "    return df"
   ]
  },
  {
   "cell_type": "code",
   "execution_count": null,
   "id": "e85e955d",
   "metadata": {},
   "outputs": [],
   "source": [
    "# ラグ特徴量の作成\n",
    "feature_df = create_lag_features(feature_df)\n",
    "feature_df.head()"
   ]
  },
  {
   "cell_type": "markdown",
   "id": "b1982231",
   "metadata": {},
   "source": [
    "## 移動平均・統計特徴量の作成"
   ]
  },
  {
   "cell_type": "markdown",
   "id": "a0ac7ca3",
   "metadata": {},
   "source": [
    "### 移動平均・統計特徴量の意義\n",
    "\n",
    "**移動平均（Moving Average）**は時系列データの**ノイズを除去**し，**トレンドを明確化**する重要な手法です．\n",
    "\n",
    "**主要な統計特徴量：**\n",
    "\n",
    "1. **移動平均 (MA)**\n",
    "   - 過去N時間の平均値\n",
    "   - 短期的な変動を平滑化\n",
    "   - トレンドの方向性を把握\n",
    "\n",
    "2. **移動標準偏差 (STD)**\n",
    "   - 過去N時間のばらつき\n",
    "   - データの変動性・不安定性を測定\n",
    "   - 異常値検出にも活用\n",
    "\n",
    "3. **移動最大値・最小値**\n",
    "   - 過去N時間の極値\n",
    "   - レンジ（変動幅）の把握\n",
    "\n",
    "4. **比率特徴量**\n",
    "   - `現在値 / 移動平均`: 現在が平均より高いか低いか\n",
    "   - 1.0より大きい場合は平均以上，小さい場合は平均以下\n",
    "\n",
    "**ウィンドウサイズの選択：**\n",
    "- **短期（3〜6時間）**: 直近のトレンド変化を捕捉\n",
    "- **中期（12〜24時間）**: 日内パターンの平滑化\n",
    "- **長期（168時間）**: 週次トレンドの把握\n",
    "\n",
    "これらの特徴量により，「現在の顧客数が過去24時間の平均と比較してどの程度なのか」といった相対的な情報をモデルが学習できます．"
   ]
  },
  {
   "cell_type": "code",
   "execution_count": null,
   "id": "e2312e6f",
   "metadata": {},
   "outputs": [],
   "source": [
    "# 移動平均・統計特徴量を作成\n",
    "def create_rolling_features(df, target_col='Customers', windows=[3, 6, 12, 24, 168]):\n",
    "    \"\"\"移動平均・統計特徴量を作成する関数\"\"\"\n",
    "    # コピーを作成\n",
    "    df = df.copy()\n",
    "    \n",
    "    # 各ウィンドウサイズに対して特徴量を作成（3h, 6h, 12h, 24h, 168h）\n",
    "    for window in windows:\n",
    "        # 移動平均\n",
    "        df[f'{target_col}_ma_{window}h'] = df[target_col].rolling(window=window).mean()\n",
    "        \n",
    "        # 移動標準偏差\n",
    "        df[f'{target_col}_std_{window}h'] = df[target_col].rolling(window=window).std()\n",
    "        \n",
    "        # 移動最大値・最小値\n",
    "        df[f'{target_col}_max_{window}h'] = df[target_col].rolling(window=window).max()\n",
    "        df[f'{target_col}_min_{window}h'] = df[target_col].rolling(window=window).min()\n",
    "        \n",
    "        # 現在値と移動平均の比率\n",
    "        df[f'{target_col}_ratio_ma_{window}h'] = df[target_col] / (df[f'{target_col}_ma_{window}h'] + 1e-8)\n",
    "    \n",
    "    return df"
   ]
  },
  {
   "cell_type": "code",
   "execution_count": null,
   "id": "c33d315a",
   "metadata": {},
   "outputs": [],
   "source": [
    "# 移動統計特徴量の作成\n",
    "feature_df = create_rolling_features(feature_df)\n",
    "feature_df.head()"
   ]
  },
  {
   "cell_type": "markdown",
   "id": "cec84d01",
   "metadata": {},
   "source": [
    "## 周期性特徴量（sin/cos変換）"
   ]
  },
  {
   "cell_type": "markdown",
   "id": "70321e12",
   "metadata": {},
   "source": [
    "### なぜsin/cos変換が必要なのか？\n",
    "\n",
    "問題：カテゴリカル特徴量の課題\n",
    "- 時刻「23時」と「0時」は隣接しているが，数値的には23と0で大きく離れている\n",
    "- 12月と1月も同様の問題が発生\n",
    "\n",
    "解決：三角関数による周期性の表現\n",
    "\n",
    "周期的な特徴量を以下の式で変換します：\n",
    "- $\\sin\\left(\\frac{2\\pi \\times \\text{value}}{\\text{period}}\\right)$\n",
    "- $\\cos\\left(\\frac{2\\pi \\times \\text{value}}{\\text{period}}\\right)$\n",
    "\n",
    "**具体例（時刻の場合）：**\n",
    "- $\\text{hour\\_sin} = \\sin\\left(\\frac{2\\pi \\times \\text{hour}}{24}\\right)$\n",
    "- $\\text{hour\\_cos} = \\cos\\left(\\frac{2\\pi \\times \\text{hour}}{24}\\right)$\n",
    "\n",
    "**メリット：**\n",
    "1. **連続性の確保**: 23時と0時が数学的に近い値を持つ\n",
    "2. **周期性の保持**: 24時間，7日間，12ヶ月の周期を正確に表現\n",
    "3. **機械学習アルゴリズムとの親和性**: 線形関係として扱える"
   ]
  },
  {
   "cell_type": "code",
   "execution_count": null,
   "id": "37bb87e7",
   "metadata": {},
   "outputs": [],
   "source": [
    "# 周期性特徴量を作成\n",
    "def create_cyclical_features(df):\n",
    "    \"\"\"周期性特徴量を作成する関数\"\"\"\n",
    "    # コピーを作成\n",
    "    df = df.copy()\n",
    "    \n",
    "    # 時間の周期性 (0-23)\n",
    "    df['hour_sin'] = np.sin(2 * np.pi * df['hour'] / 24)\n",
    "    df['hour_cos'] = np.cos(2 * np.pi * df['hour'] / 24)\n",
    "    \n",
    "    # 曜日の周期性 (0-6)\n",
    "    df['dow_sin'] = np.sin(2 * np.pi * df['day_of_week'] / 7)\n",
    "    df['dow_cos'] = np.cos(2 * np.pi * df['day_of_week'] / 7)\n",
    "    \n",
    "    # 月の周期性 (1-12)\n",
    "    df['month_sin'] = np.sin(2 * np.pi * (df['month'] - 1) / 12)\n",
    "    df['month_cos'] = np.cos(2 * np.pi * (df['month'] - 1) / 12)\n",
    "    \n",
    "    # 日の周期性 (1-31)\n",
    "    df['day_sin'] = np.sin(2 * np.pi * (df['day_of_month'] - 1) / 31)\n",
    "    df['day_cos'] = np.cos(2 * np.pi * (df['day_of_month'] - 1) / 31)\n",
    "    \n",
    "    return df"
   ]
  },
  {
   "cell_type": "code",
   "execution_count": null,
   "id": "270b57b6",
   "metadata": {},
   "outputs": [],
   "source": [
    "# 周期性特徴量の作成\n",
    "feature_df = create_cyclical_features(feature_df)\n",
    "feature_df.head()"
   ]
  },
  {
   "cell_type": "markdown",
   "id": "e1c8c69e",
   "metadata": {},
   "source": [
    "下のグラフを見ると，sin-cos変換により時刻が円形に配置され，隣接する時刻が近い位置に来ることが分かります．"
   ]
  },
  {
   "cell_type": "code",
   "execution_count": null,
   "id": "4e2010d9",
   "metadata": {},
   "outputs": [],
   "source": [
    "# 可視化（散布図）\n",
    "plt.figure(figsize=(15, 5))\n",
    "\n",
    "# Hour vs Hour_sin\n",
    "plt.subplot(1, 3, 1)\n",
    "plt.scatter(feature_df['hour'], feature_df['hour_sin'], alpha=0.6, s=20)\n",
    "plt.title('Hour vs Hour_sin')\n",
    "plt.xlabel('Hour')\n",
    "plt.ylabel('Hour_sin')\n",
    "\n",
    "# Hour vs Hour_cos\n",
    "plt.subplot(1, 3, 2)\n",
    "plt.scatter(feature_df['hour'], feature_df['hour_cos'], alpha=0.6, s=20)\n",
    "plt.title('Hour vs Hour_cos')\n",
    "plt.xlabel('Hour')\n",
    "plt.ylabel('Hour_cos')\n",
    "\n",
    "# Hour_sin vs Hour_cos (circular)\n",
    "plt.subplot(1, 3, 3)\n",
    "plt.scatter(feature_df['hour_sin'], feature_df['hour_cos'], alpha=0.6, s=20)\n",
    "plt.title('Hour_sin vs Hour_cos (circular)')\n",
    "plt.xlabel('Hour_sin')\n",
    "plt.ylabel('Hour_cos')\n",
    "\n",
    "plt.tight_layout()\n",
    "plt.show()"
   ]
  },
  {
   "cell_type": "markdown",
   "id": "92aa923d",
   "metadata": {},
   "source": [
    "## 差分・トレンド特徴量の作成"
   ]
  },
  {
   "cell_type": "markdown",
   "id": "c5227606",
   "metadata": {},
   "source": [
    "### 差分特徴量とトレンド除去\n",
    "\n",
    "**差分特徴量**は時系列データの**変化量**に着目した重要な特徴量です．\n",
    "\n",
    "**主要な差分特徴量：**\n",
    "\n",
    "1. **1次差分 (diff)**\n",
    "   - $\\text{diff}_t = \\text{value}_t - \\text{value}_{t-1}$\n",
    "   - 直前との変化量（増加・減少の大きさ）\n",
    "\n",
    "2. **変化率 (pct_change)**\n",
    "   - $\\text{pct\\_change}_t = \\frac{\\text{value}_t - \\text{value}_{t-1}}{\\text{value}_{t-1}}$\n",
    "   - 変化の割合（相対的な変化）\n",
    "\n",
    "3. **期間別差分**\n",
    "   - `diff_24h`: 24時間前との差（同じ時間帯での日次変化）\n",
    "   - `diff_168h`: 168時間前との差（同じ曜日・時間帯での週次変化）\n",
    "\n",
    "**なぜ差分が重要なのか？**\n",
    "\n",
    "1. **トレンド除去**: 長期的な増減傾向を取り除く\n",
    "2. **定常性の向上**: 統計的性質が安定化（平均・分散が一定）\n",
    "3. **変化の検出**: 急激な増減を敏感に捉える\n",
    "4. **異常検知**: 通常とは異なる変化パターンを発見\n",
    "\n",
    "**トレンド特徴量**は移動平均の変化率を表し，データの方向性（上昇・下降・横ばい）を定量化します．"
   ]
  },
  {
   "cell_type": "code",
   "execution_count": null,
   "id": "f9f4aa04",
   "metadata": {},
   "outputs": [],
   "source": [
    "# 差分・トレンド特徴量を作成\n",
    "def create_diff_trend_features(df, target_col='Customers'):\n",
    "    \"\"\"差分・トレンド特徴量を作成する関数\"\"\"\n",
    "    # コピーを作成\n",
    "    df = df.copy()\n",
    "    \n",
    "    # 1次差分（前の時点との差）\n",
    "    df[f'{target_col}_diff_1h'] = df[target_col].diff(1)\n",
    "    df[f'{target_col}_diff_24h'] = df[target_col].diff(24)    # 1日前との差\n",
    "    df[f'{target_col}_diff_168h'] = df[target_col].diff(168)  # 1週間前との差\n",
    "    \n",
    "    # 変化率\n",
    "    df[f'{target_col}_pct_change_1h'] = df[target_col].pct_change(1)\n",
    "    df[f'{target_col}_pct_change_24h'] = df[target_col].pct_change(24)\n",
    "    \n",
    "    # トレンド特徴量（移動平均の勾配）\n",
    "    for window in [6, 12, 24]:\n",
    "        ma_col = f'{target_col}_ma_{window}h'\n",
    "        if ma_col in df.columns:\n",
    "            df[f'{target_col}_trend_{window}h'] = df[ma_col].diff(1)\n",
    "    \n",
    "    return df"
   ]
  },
  {
   "cell_type": "code",
   "execution_count": null,
   "id": "9bb02467",
   "metadata": {},
   "outputs": [],
   "source": [
    "# 差分・トレンド特徴量の作成\n",
    "feature_df = create_diff_trend_features(feature_df)\n",
    "feature_df.head()"
   ]
  },
  {
   "cell_type": "markdown",
   "id": "bdf13e6c",
   "metadata": {},
   "source": [
    "下のグラフでは，元データの変動が差分によってどのように変化量として表現されるかを確認できます．"
   ]
  },
  {
   "cell_type": "code",
   "execution_count": null,
   "id": "bc9b7777",
   "metadata": {},
   "outputs": [],
   "source": [
    "# 可視化（時系列）\n",
    "plt.figure(figsize=(15, 8))\n",
    "\n",
    "# Original\n",
    "plt.subplot(2, 2, 1)\n",
    "plt.plot(feature_df['Customers'].iloc[24:168], alpha=0.7, label='Original')\n",
    "plt.title('Original Customers Values')\n",
    "plt.legend()\n",
    "\n",
    "# 1-hour Difference\n",
    "plt.subplot(2, 2, 2)\n",
    "plt.plot(feature_df['Customers_diff_1h'].iloc[24:168], alpha=0.7, label='1h Diff', color='red')\n",
    "plt.title('1-hour Difference')\n",
    "plt.legend()\n",
    "\n",
    "# 24-hour Difference\n",
    "plt.subplot(2, 2, 3)\n",
    "plt.plot(feature_df['Customers_diff_24h'].iloc[24:168], alpha=0.7, label='24h Diff', color='green')\n",
    "plt.title('24-hour Difference')\n",
    "plt.legend()\n",
    "\n",
    "# 24-hour Percent Change\n",
    "plt.subplot(2, 2, 4)\n",
    "plt.plot(feature_df['Customers_pct_change_24h'].iloc[24:168], alpha=0.7, label='24h % Change', color='purple')\n",
    "plt.title('24-hour Percent Change')\n",
    "plt.legend()\n",
    "\n",
    "plt.tight_layout()\n",
    "plt.show()"
   ]
  },
  {
   "cell_type": "markdown",
   "id": "ba3c1be5",
   "metadata": {},
   "source": [
    "## カレンダー特徴量の作成"
   ]
  },
  {
   "cell_type": "markdown",
   "id": "b2f56c58",
   "metadata": {},
   "source": [
    "### カレンダー特徴量の実用価値\n",
    "\n",
    "**カレンダー特徴量**は**ビジネス上の意味**を持つ特徴量で，実際の顧客行動パターンを反映します．\n",
    "\n",
    "**基本パターン特徴量：**\n",
    "\n",
    "1. **曜日パターン**\n",
    "   - `is_monday`: 月曜日の憂鬱効果\n",
    "   - `is_friday`: 週末前の解放感\n",
    "   - `is_weekend`: 週末の行動パターン\n",
    "\n",
    "2. **時間帯パターン**\n",
    "   - `is_morning`: 朝の通勤・通学時間帯\n",
    "   - `is_lunch_time`: 昼食時間帯の混雑\n",
    "   - `is_evening`: 夕方の帰宅時間帯\n",
    "\n",
    "3. **月内パターン**\n",
    "   - `is_month_start`: 給料日後の消費活発期\n",
    "   - `is_month_end`: 月末の節約モード\n",
    "\n",
    "これらの特徴量により，人間の生活リズムに基づいた予測が可能になります．"
   ]
  },
  {
   "cell_type": "code",
   "execution_count": null,
   "id": "1352f080",
   "metadata": {},
   "outputs": [],
   "source": [
    "# カレンダー特徴量を作成\n",
    "def create_calendar_features(df):\n",
    "    \"\"\"カレンダー特徴量を作成する関数\"\"\"\n",
    "    # コピーを作成\n",
    "    df = df.copy()\n",
    "    \n",
    "    # 曜日パターン特徴量\n",
    "    df['is_monday']   = (df['day_of_week'] == 0).astype(int) # 月曜日\n",
    "    df['is_friday']   = (df['day_of_week'] == 4).astype(int) # 金曜日\n",
    "    df['is_saturday'] = (df['day_of_week'] == 5).astype(int) # 土曜日\n",
    "    df['is_sunday']   = (df['day_of_week'] == 6).astype(int) # 日曜日\n",
    "    \n",
    "    # 月初・月末\n",
    "    df['is_month_start'] = (df['day_of_month'] <= 3).astype(int)  # 月初（1-3日）\n",
    "    df['is_month_end']   = (df['day_of_month'] >= 28).astype(int) # 月末（28-31日）\n",
    "    \n",
    "    # 時間帯パターン\n",
    "    df['is_morning']   = ((df['hour'] >= 6) & (df['hour'] <= 11)).astype(int)  # 朝（6-11時）\n",
    "    df['is_afternoon'] = ((df['hour'] >= 12) & (df['hour'] <= 17)).astype(int) # 昼（12-17時）\n",
    "    df['is_evening']   = ((df['hour'] >= 18) & (df['hour'] <= 22)).astype(int) # 夕方（18-22時）\n",
    "    df['is_night']     = ((df['hour'] >= 23) | (df['hour'] <= 5)).astype(int)  # 夜（23-5時）\n",
    "    \n",
    "    # 複合特徴量\n",
    "    df['weekend_evening'] = (df['is_weekend'] * df['is_evening']).astype(int)          # 週末の夕方\n",
    "    df['weekday_lunch']   = ((1 - df['is_weekend']) * df['is_lunch_time']).astype(int) # 平日のランチタイム\n",
    "    \n",
    "    return df"
   ]
  },
  {
   "cell_type": "code",
   "execution_count": null,
   "id": "7c48ebc4",
   "metadata": {},
   "outputs": [],
   "source": [
    "# カレンダー特徴量を追加\n",
    "feature_df = create_calendar_features(feature_df)\n",
    "feature_df.head()"
   ]
  },
  {
   "cell_type": "markdown",
   "id": "9bc5c034",
   "metadata": {},
   "source": [
    "## 特徴量の重要度評価"
   ]
  },
  {
   "cell_type": "markdown",
   "id": "27e5ba96",
   "metadata": {},
   "source": [
    "### 特徴量重要度評価の意義\n",
    "\n",
    "作成した多数の特徴量の中から**最も予測に有効な特徴量**を特定することは，機械学習の成功に不可欠です．\n",
    "\n",
    "**特徴量選択の重要性：**\n",
    "\n",
    "1. **計算効率の向上**: 不要な特徴量を除去\n",
    "2. **過学習の防止**: 特徴量が多すぎると汎化性能が低下\n",
    "3. **解釈性の向上**: 重要な特徴量に焦点を当てた分析\n",
    "4. **メモリ使用量の削減**: 大規模データでの実用性向上\n",
    "\n",
    "**前処理の必要性：**\n",
    "- **無限大値の処理**: 計算エラーを防ぐためNaNに変換\n",
    "- **欠損値の除去**: 正確な重要度計算のため\n",
    "- **標準化**: 異なるスケールの特徴量を公平に比較"
   ]
  },
  {
   "cell_type": "code",
   "execution_count": null,
   "id": "6cd05d61",
   "metadata": {},
   "outputs": [],
   "source": [
    "# 特徴量の重要度評価\n",
    "eval_df = feature_df.copy()\n",
    "\n",
    "# データの前処理\n",
    "print(\"前処理前: \" + str(eval_df.shape))\n",
    "\n",
    "eval_df = eval_df.replace([np.inf, -np.inf], np.nan) # 無限大値をNaNに置換\n",
    "eval_df = eval_df.dropna()                           # NaNを含む行を削除\n",
    "\n",
    "print(\"前処理後: \" + str(eval_df.shape))"
   ]
  },
  {
   "cell_type": "code",
   "execution_count": null,
   "id": "3072a033",
   "metadata": {},
   "outputs": [],
   "source": [
    "# 特徴量（説明変数）とターゲット（目的変数）を分離\n",
    "feature_cols = [col for col in eval_df.columns if col not in ['Timestamp', 'Customers']]\n",
    "X = eval_df[feature_cols] # 説明変数\n",
    "y = eval_df['Customers']  # 目的変数"
   ]
  },
  {
   "cell_type": "code",
   "execution_count": null,
   "id": "48014184",
   "metadata": {},
   "outputs": [],
   "source": [
    "# 特徴量を標準化\n",
    "X_scaled = StandardScaler().fit_transform(X)"
   ]
  },
  {
   "cell_type": "markdown",
   "id": "1b4fc538",
   "metadata": {},
   "source": [
    "**相互情報量（Mutual Information）とは？**\n",
    "\n",
    "相互情報量は，ある特徴量が目的変数（顧客数）の**不確実性をどの程度減少させるか**を測定する指標です．\n",
    "\n",
    "- **高い値**: その特徴量は予測に非常に有用\n",
    "- **低い値**: その特徴量の予測貢献度は低い\n",
    "- **0**: その特徴量は予測に全く寄与しない\n",
    "\n",
    "**数式：**\n",
    "$$MI(X;Y) = \\sum_{x,y} p(x,y) \\log\\frac{p(x,y)}{p(x)p(y)}$$"
   ]
  },
  {
   "cell_type": "code",
   "execution_count": null,
   "id": "bf2bf25d",
   "metadata": {},
   "outputs": [],
   "source": [
    "# 相互情報量による特徴量重要度計算\n",
    "mi_scores = mutual_info_regression(X_scaled, y, random_state=42)\n",
    "\n",
    "# 結果をDataFrameに整理（重要度の高い順にソート）\n",
    "feature_importance = pd.DataFrame({'feature': feature_cols, 'importance': mi_scores}).sort_values('importance', ascending=False)\n",
    "feature_importance.head()"
   ]
  },
  {
   "cell_type": "markdown",
   "id": "7286d1be",
   "metadata": {},
   "source": [
    "下のグラフから，どの特徴量が予測に最も寄与するかを確認し，今後のモデル構築に活用しましょう．"
   ]
  },
  {
   "cell_type": "code",
   "execution_count": null,
   "id": "6256407a",
   "metadata": {},
   "outputs": [],
   "source": [
    "# 可視化（棒グラフ）\n",
    "plt.figure(figsize=(15, 6))\n",
    "plt.barh(range(len(feature_importance)), feature_importance['importance'])\n",
    "plt.yticks(range(len(feature_importance)), feature_importance['feature'])\n",
    "plt.xlabel('Mutual Information Score')\n",
    "plt.title('Feature Importance (Mutual Information)')\n",
    "plt.gca().invert_yaxis()\n",
    "plt.tight_layout()\n",
    "plt.show()"
   ]
  },
  {
   "cell_type": "code",
   "execution_count": null,
   "id": "0ee50bfb",
   "metadata": {},
   "outputs": [],
   "source": [
    "# 可視化（棒グラフ）- Top 15\n",
    "top_features = feature_importance.head(15)\n",
    "plt.figure(figsize=(15, 6))\n",
    "plt.barh(range(len(top_features)), top_features['importance'])\n",
    "plt.yticks(range(len(top_features)), top_features['feature'])\n",
    "plt.xlabel('Mutual Information Score')\n",
    "plt.title('Feature Importance (Mutual Information)')\n",
    "plt.gca().invert_yaxis()\n",
    "plt.tight_layout()\n",
    "plt.show()"
   ]
  },
  {
   "cell_type": "markdown",
   "id": "84b50000",
   "metadata": {},
   "source": [
    "## CSVファイルの保存"
   ]
  },
  {
   "cell_type": "code",
   "execution_count": null,
   "id": "9e1f9ab1",
   "metadata": {},
   "outputs": [],
   "source": [
    "eval_df.to_csv('../data/processed/feature_engineered_data.csv', index=False)"
   ]
  }
 ],
 "metadata": {
  "kernelspec": {
   "display_name": ".myvenv",
   "language": "python",
   "name": "python3"
  },
  "language_info": {
   "codemirror_mode": {
    "name": "ipython",
    "version": 3
   },
   "file_extension": ".py",
   "mimetype": "text/x-python",
   "name": "python",
   "nbconvert_exporter": "python",
   "pygments_lexer": "ipython3",
   "version": "3.10.12"
  }
 },
 "nbformat": 4,
 "nbformat_minor": 5
}
