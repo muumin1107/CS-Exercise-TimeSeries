{
 "cells": [
  {
   "cell_type": "markdown",
   "id": "02affa5d",
   "metadata": {},
   "source": [
    "# 時系列パート（基礎編：Pandasの基礎）\n",
    "\n",
    "### 使用データについて\n",
    "\n",
    "今回は**カフェの顧客データ**（`cafe_customers.csv`）を使用します．これは時系列データの典型例で，頻繁に扱うデータ形式です．"
   ]
  },
  {
   "cell_type": "markdown",
   "id": "cc9edf2e",
   "metadata": {},
   "source": [
    "## 必要なライブラリのインポート"
   ]
  },
  {
   "cell_type": "markdown",
   "id": "8f23969e",
   "metadata": {},
   "source": [
    "**pandas (pd)**\n",
    "- **目的**: データの読み込み，加工，分析\n",
    "- **特徴**: ExcelのようなTable形式データ（DataFrame）を扱う\n",
    "- **研究での用途**: 実験データの前処理，統計分析，可視化用データ準備\n",
    "\n",
    "まずは，今回のノートブックの実行に使用するライブラリをインポートします．"
   ]
  },
  {
   "cell_type": "code",
   "execution_count": null,
   "id": "cd70c51f",
   "metadata": {},
   "outputs": [],
   "source": [
    "import pandas as pd\n",
    "from datetime import timedelta\n",
    "\n",
    "# 警告メッセージを非表示にするライブラリ・設定\n",
    "import warnings\n",
    "warnings.filterwarnings('ignore')"
   ]
  },
  {
   "cell_type": "markdown",
   "id": "4ba31233",
   "metadata": {},
   "source": [
    "## データの読み込み"
   ]
  },
  {
   "cell_type": "markdown",
   "id": "4e5b0b0a",
   "metadata": {},
   "source": [
    "時系列データ分析の第一歩は「データを理解すること」から始まります．\n",
    "\n",
    "どんなに高度な分析手法を使っても、データの中身を知らなければ意味のある結果は得られません．\n",
    "\n",
    "今回使用するデータセット（`cafe_customers.csv`）をpandasライブラリを用いて読み込みます．"
   ]
  },
  {
   "cell_type": "code",
   "execution_count": null,
   "id": "c226ad4e",
   "metadata": {},
   "outputs": [],
   "source": [
    "# CSVファイルの読み込み\n",
    "df = pd.read_csv('../data/raw/cafe_customers.csv')\n",
    "\n",
    "# データの最初の5行を表示\n",
    "print(df.head())"
   ]
  },
  {
   "cell_type": "markdown",
   "id": "ffc34e2c",
   "metadata": {},
   "source": [
    "## データの形状とタイプの確認\n",
    "\n",
    "データ分析の**最重要ステップ**の一つです．\n",
    "\n",
    "データの「形」と「型」を理解せずに分析を進めると，誤った結論に至る可能性があります．"
   ]
  },
  {
   "cell_type": "markdown",
   "id": "aea9e3a6",
   "metadata": {},
   "source": [
    "### なぜshapeの確認が重要なのか？\n",
    "\n",
    "**`df.shape`** は `(行数, 列数)` を返します：\n",
    "\n",
    "- **サンプルサイズの把握**: 統計的有意性の判断材料\n",
    "- **処理時間の予測**: 大規模データでは処理方法を変える必要がある\n",
    "- **メモリ使用量の推定**: 大きすぎるデータは分割処理が必要"
   ]
  },
  {
   "cell_type": "code",
   "execution_count": null,
   "id": "bf1dc0a1",
   "metadata": {},
   "outputs": [],
   "source": [
    "# データの形状を表示\n",
    "print(df.shape)"
   ]
  },
  {
   "cell_type": "markdown",
   "id": "f1c579c9",
   "metadata": {},
   "source": [
    "### データ型（dtypes）の重要性\n",
    "\n",
    "**`df.dtypes`** でデータ型を確認する理由：\n",
    "\n",
    "1. **適切な分析手法の選択**:\n",
    "   - `int64/float64`: 数値分析（平均，相関など）\n",
    "   - `object`: カテゴリ分析（クロス集計など）\n",
    "   - `datetime64`: 時系列分析\n",
    "\n",
    "2. **メモリ効率の最適化**:\n",
    "   - `int32` vs `int64`: メモリ使用量が半分\n",
    "   - カテゴリデータを`category`型にすると大幅な節約\n",
    "\n",
    "3. **エラーの予防**:\n",
    "   - 数値として扱いたいのに`object`型 → 計算エラー\n",
    "   - 日付として扱いたいのに`string`型 → 時系列分析不可"
   ]
  },
  {
   "cell_type": "code",
   "execution_count": null,
   "id": "ddb6d51f",
   "metadata": {},
   "outputs": [],
   "source": [
    "# タイプの確認\n",
    "print(df.dtypes)"
   ]
  },
  {
   "cell_type": "markdown",
   "id": "41b5bd56",
   "metadata": {},
   "source": [
    "## 欠損値の確認\n",
    "\n",
    "欠損値（Missing Values）は，適切に処理しないと，結果が大きく歪む可能性があります．\n",
    "\n",
    "### 欠損値が研究に与える影響\n",
    "\n",
    "1. **統計的バイアス**: 欠損が偶然でない場合，結果が偏る\n",
    "2. **サンプルサイズの減少**: 分析に使えるデータが減る  \n",
    "3. **手法の制限**: 多くの機械学習アルゴリズムは欠損値を扱えない\n",
    "\n",
    "### 欠損値の対処法\n",
    "\n",
    "- **完全削除**: 欠損があるレコードを除外（最も安全だが，データ損失大）\n",
    "- **平均値補完**: 数値データを平均値で埋める（簡単だが，分散が小さくなる）\n",
    "- **前方補完/後方補完**: 時系列データで前後の値を使用"
   ]
  },
  {
   "cell_type": "code",
   "execution_count": null,
   "id": "a5da5424",
   "metadata": {},
   "outputs": [],
   "source": [
    "# 欠損値の確認\n",
    "print(df.isnull().sum())"
   ]
  },
  {
   "cell_type": "markdown",
   "id": "e683f978",
   "metadata": {},
   "source": [
    "## 時系列データの扱い方\n",
    "\n",
    "時系列データは，**時間の経過とともに変化するデータ**のことで，IoT（気温，湿度など），Web解析（アクセス数など），金融（株価など），医療（心拍数など）といったあらゆる分野で活用されています．\n",
    "\n",
    "### なぜ特別な扱いが必要なのか？\n",
    "\n",
    "1. **時間順序の意味**: データの順番に意味がある\n",
    "2. **季節性・周期性**: 曜日，月，季節による規則的な変動パターン\n",
    "3. **トレンド**: 長期的な増加・減少傾向\n",
    "4. **自己相関**: 過去の値が現在の値に影響する"
   ]
  },
  {
   "cell_type": "markdown",
   "id": "b5cd833c",
   "metadata": {},
   "source": [
    "### 文字列 → datetime型への変換の重要性\n",
    "\n",
    "「2024-01-15」のままでは，ただの文字であり，時間的な計算ができない．**datetime型**に変換することで，プログラムが実際の日時として認識し，曜日抽出，期間計算，時系列分析が可能になる．"
   ]
  },
  {
   "cell_type": "code",
   "execution_count": null,
   "id": "8b251d9b",
   "metadata": {},
   "outputs": [],
   "source": [
    "# 文字列から日時型に変換する前のタイプの確認\n",
    "print(\"変換前のタイプ: \" + str(df[\"Timestamp\"].dtype))\n",
    "\n",
    "# 文字列から日時型に変換\n",
    "df['Timestamp'] = pd.to_datetime(df['Timestamp'])\n",
    "\n",
    "# 文字列から日時型に変換後のタイプの確認\n",
    "print(\"変換後のタイプ: \" + str(df[\"Timestamp\"].dtype))"
   ]
  },
  {
   "cell_type": "markdown",
   "id": "5da81baf",
   "metadata": {},
   "source": [
    "### 時系列から新しい特徴量を生成する\n",
    "\n",
    "- **曜日**: 人間の行動パターンは曜日に大きく依存\n",
    "- **時間**: 日内変動（朝昼夜）のパターン分析\n",
    "- **日付**: トレンド分析，特定日の影響評価"
   ]
  },
  {
   "cell_type": "code",
   "execution_count": null,
   "id": "849b44c9",
   "metadata": {},
   "outputs": [],
   "source": [
    "print(\"--- 追加前のデータ ---\")\n",
    "print(df.head())\n",
    "\n",
    "# 時系列データから新しい特徴量を抽出・追加\n",
    "df['Date']        = df['Timestamp'].dt.date        # 日付\n",
    "df['Hour']        = df['Timestamp'].dt.hour        # 時間\n",
    "df['DayOfWeek']   = df['Timestamp'].dt.dayofweek   # 曜日（0:月曜日 ～ 6:日曜日）\n",
    "df['WeekdayName'] = df['Timestamp'].dt.day_name()  # 曜日名\n",
    "\n",
    "print(\"\\n--- 追加後のデータ ---\")\n",
    "print(df.head())"
   ]
  },
  {
   "cell_type": "markdown",
   "id": "5386cb16",
   "metadata": {},
   "source": [
    "## 基本的な統計情報の取得\n",
    "\n",
    "統計情報は，詳細な分析に入る前に必ず確認すべき重要な項目です．\n",
    "\n",
    "### describe()で一気に把握する重要指標\n",
    "\n",
    "**各統計量の意味**:\n",
    "\n",
    "1. **count (件数)**: サンプルサイズ\n",
    "2. **mean (平均)**: データの中心傾向\n",
    "3. **std (標準偏差)**: データのばらつき\n",
    "4. **min/max**: 最小・最大値\n",
    "5. **25%/50%/75% (四分位数)**: データ分布の形状"
   ]
  },
  {
   "cell_type": "code",
   "execution_count": null,
   "id": "d0da6d57",
   "metadata": {},
   "outputs": [],
   "source": [
    "# 基本的な統計情報をまとめて取得（デフォルトは数値列のみ）\n",
    "print(df.describe())"
   ]
  },
  {
   "cell_type": "code",
   "execution_count": null,
   "id": "1f224a24",
   "metadata": {},
   "outputs": [],
   "source": [
    "# 基本的な統計情報を個別に取得（例：Customer列）\n",
    "print(\"件数: \" + str(df[\"Customers\"].count()))\n",
    "print(\"平均: \" + str(df[\"Customers\"].mean()))\n",
    "print(\"最小値: \" + str(df[\"Customers\"].min()))\n",
    "print(\"第1四分位数: \" + str(df[\"Customers\"].quantile(0.25)))\n",
    "print(\"中央値(第2四分位数): \" + str(df[\"Customers\"].median()))\n",
    "print(\"第3四分位数: \" + str(df[\"Customers\"].quantile(0.75)))\n",
    "print(\"最大値: \" + str(df[\"Customers\"].max()))\n",
    "print(\"標準偏差: \" + str(df[\"Customers\"].std()))"
   ]
  },
  {
   "cell_type": "markdown",
   "id": "60f9a958",
   "metadata": {},
   "source": [
    "## データのフィルタリングとソート\n",
    "\n",
    "フィルタリングとソートは，膨大なデータから一部を抽出し，パターンを見つける際に使用します．\n",
    "\n",
    "### フィルタリングの研究における重要性\n",
    "\n",
    "1. **ノイズ除去**: 分析に不要なデータを除外\n",
    "2. **条件別分析**: 特定の条件下での現象を調査\n",
    "3. **異常値除去**: 測定エラーや外れ値を排除\n",
    "4. **サブグループ分析**: 性別，年齢層，時間帯などによる層別分析"
   ]
  },
  {
   "cell_type": "markdown",
   "id": "0d6324bd",
   "metadata": {},
   "source": [
    "### 営業時間フィルタリング\n",
    "- **目的**: 店舗が実際に営業している時間のデータのみ分析\n",
    "- **応用**: 実験時間内のデータ，授業時間内の学習データなど\n",
    "- **重要性**: 全データを使うと，夜間（客数=0）が平均を下げて誤った結論に"
   ]
  },
  {
   "cell_type": "code",
   "execution_count": null,
   "id": "0aa96146",
   "metadata": {},
   "outputs": [],
   "source": [
    "# 営業時間（7時-21時）のデータをフィルタリング\n",
    "business_hours = df[(df['Hour'] >= 7) & (df['Hour'] <= 21)]\n",
    "print(\"営業時間内のデータ割合(%): \" + str(len(business_hours) / len(df) * 100))"
   ]
  },
  {
   "cell_type": "markdown",
   "id": "267222a1",
   "metadata": {},
   "source": [
    "### ソート（並び替え）\n",
    "- **上位・下位の特定**: 最も効果的・非効果的な条件を発見\n",
    "- **ランキング作成**: 重要度順，効果順の評価\n",
    "- **パターン発見**: データを並び替えることで隠れた傾向を発見"
   ]
  },
  {
   "cell_type": "code",
   "execution_count": null,
   "id": "42cdad4d",
   "metadata": {},
   "outputs": [],
   "source": [
    "# 客数が多い順にソート\n",
    "sorted_df = df.sort_values(by='Customers', ascending=False)\n",
    "print(\"客数が多いランキング（上位5件）:\")\n",
    "print(sorted_df.head())"
   ]
  },
  {
   "cell_type": "code",
   "execution_count": null,
   "id": "5695adbf",
   "metadata": {},
   "outputs": [],
   "source": [
    "# 特定の曜日（土曜日）のデータを抽出\n",
    "saturday_data = df[df['DayOfWeek'] == 5]  # 5 = 土曜日\n",
    "print(\"土曜日のデータ割合(%): \" + str(len(saturday_data) / len(df) * 100))\n",
    "print(\"土曜日の平均客数(人):\", saturday_data['Customers'].mean())"
   ]
  },
  {
   "cell_type": "code",
   "execution_count": null,
   "id": "d38ef774",
   "metadata": {},
   "outputs": [],
   "source": [
    "# 複数条件でのフィルタリング例（週末のランチタイム）\n",
    "weekend_lunch = df[\n",
    "    (df['DayOfWeek'].isin([5, 6])) &         # 土日\n",
    "    (df['Hour'] >= 11) & (df['Hour'] <= 14)  # ランチタイム\n",
    "]\n",
    "print(\"週末ランチタイムのデータ割合(%): \" + str(len(weekend_lunch) / len(df) * 100))\n",
    "print(\"週末ランチタイムの平均客数(人):\", weekend_lunch['Customers'].mean())"
   ]
  },
  {
   "cell_type": "markdown",
   "id": "76290937",
   "metadata": {},
   "source": [
    "## グループ化と集約\n",
    "\n",
    "グループ化（groupby）は，「全体の傾向」ではなく「グループ別の特徴」を理解することで，より深い洞察が得られます．\n",
    "\n",
    "### なぜグループ化が重要なのか？\n",
    "\n",
    "**単純集計 vs グループ別集計の違い**:\n",
    "\n",
    "- **単純**: 「全体の平均客数は50人」→ 表面的な情報\n",
    "- **グループ別**: 「平日昼12時の平均客数は80人，深夜3時は5人」→ 具体的な行動指針"
   ]
  },
  {
   "cell_type": "markdown",
   "id": "46af013a",
   "metadata": {},
   "source": [
    "### 時間帯別分析 (`groupby('Hour')`)\n",
    "- **目的**: 日内変動パターンの把握\n",
    "- **応用例**: 学習効率の時間変動，システム負荷の時間分析\n",
    "- **価値**: ピーク時間の特定，リソース配分の最適化"
   ]
  },
  {
   "cell_type": "code",
   "execution_count": null,
   "id": "428523e1",
   "metadata": {},
   "outputs": [],
   "source": [
    "# 時間帯別の平均客数を計算\n",
    "hourly_avg = df.groupby('Hour')['Customers'].mean()\n",
    "print(hourly_avg)"
   ]
  },
  {
   "cell_type": "markdown",
   "id": "ffc07f71",
   "metadata": {},
   "source": [
    "### 曜日別分析 (`groupby('WeekdayName')`)\n",
    "- **目的**: 週次サイクルの理解\n",
    "- **応用例**: ユーザー行動の曜日差，実験参加者の曜日による違い\n",
    "- **価値**: 曜日効果の定量化，スケジューリングの最適化"
   ]
  },
  {
   "cell_type": "code",
   "execution_count": null,
   "id": "b61f418d",
   "metadata": {},
   "outputs": [],
   "source": [
    "# 曜日別の平均客数\n",
    "daily_avg = df.groupby('WeekdayName')['Customers'].mean()\n",
    "print(daily_avg)"
   ]
  },
  {
   "cell_type": "markdown",
   "id": "e153a792",
   "metadata": {},
   "source": [
    "### 日次集計 (`groupby('Date')`)\n",
    "- **目的**: トレンド分析，長期変動の把握\n",
    "- **応用例**: 売上推移，学習進捗，システム利用量の変化\n",
    "- **価値**: 成長率の測定，異常日の検出"
   ]
  },
  {
   "cell_type": "code",
   "execution_count": null,
   "id": "97b36968",
   "metadata": {},
   "outputs": [],
   "source": [
    "# 日付別の合計客数（日次集計）\n",
    "daily_total = df.groupby('Date')['Customers'].sum()\n",
    "print(daily_total.head())"
   ]
  },
  {
   "cell_type": "markdown",
   "id": "06875413",
   "metadata": {},
   "source": [
    "### `groupby(['WeekdayName', 'Hour'])`\n",
    "- **意味**: 「月曜日の9時」「金曜日の18時」など，具体的なシーン分析\n",
    "- **価値**: 単一軸では見えない複雑なパターンを可視化\n",
    "- **研究応用**: 実験条件の組み合わせ効果，多要因分析\n",
    "\n",
    "### unstack()メソッド\n",
    "**ピボットテーブル形式**への変換:\n",
    "- 縦長データ → 横長データ（Excel的な見やすさ）\n",
    "- 行：時間，列：曜日 → 一目で全パターンを比較可能\n",
    "- **研究での使用**: 論文の表作成，プレゼン資料の作成"
   ]
  },
  {
   "cell_type": "code",
   "execution_count": null,
   "id": "f301f56a",
   "metadata": {},
   "outputs": [],
   "source": [
    "# 時間×曜日のクロス統計\n",
    "cross_stats = df.groupby(['WeekdayName', 'Hour'])['Customers'].mean().unstack(level=0)\n",
    "print(cross_stats.head())"
   ]
  },
  {
   "cell_type": "markdown",
   "id": "b1e5aa12",
   "metadata": {},
   "source": [
    "## インデックスの操作\n",
    "\n",
    "インデックス操作は，特に**時系列データ分析において極めて重要**なスキルです．適切なインデックス設定により，データの抽出・操作が簡単になります．\n",
    "\n",
    "### なぜTimestampをインデックスにするのか？\n",
    "\n",
    "**メリット**:\n",
    "1. **日付ベースのスライシング**: 「2024年1月のデータ」を簡単抽出\n",
    "2. **リサンプリング機能**: 時間・日・月単位での自動集約\n",
    "3. **時系列プロット**: matplotlib/seabornでの時系列グラフが美しく描画\n",
    "4. **期間計算**: 「初日から7日間」のような相対的期間指定"
   ]
  },
  {
   "cell_type": "code",
   "execution_count": null,
   "id": "29756cfc",
   "metadata": {},
   "outputs": [],
   "source": [
    "# データフレームのコピーを作成\n",
    "df_indexed = df.copy()"
   ]
  },
  {
   "cell_type": "code",
   "execution_count": null,
   "id": "557c0709",
   "metadata": {},
   "outputs": [],
   "source": [
    "# インデックス操作前のデータを表示\n",
    "print(\"--- 追加前のデータ ---\")\n",
    "print(df_indexed.head())\n",
    "\n",
    "# Timestampをインデックスに設定\n",
    "df_indexed = df_indexed.set_index('Timestamp')\n",
    "\n",
    "print(\"\\n--- 追加後のデータ ---\")\n",
    "print(df_indexed.head())"
   ]
  },
  {
   "cell_type": "markdown",
   "id": "72db2fde",
   "metadata": {},
   "source": [
    "### 日付範囲での絞り込み\n",
    "- 実験期間中のデータのみ抽出\n",
    "- 特定イベント前後の比較分析\n",
    "- 季節・月別の傾向分析"
   ]
  },
  {
   "cell_type": "code",
   "execution_count": null,
   "id": "613a3188",
   "metadata": {},
   "outputs": [],
   "source": [
    "# 利用可能な日付範囲を確認\n",
    "print(f\"開始日: {df_indexed.index.min().date()}\")\n",
    "print(f\"終了日: {df_indexed.index.max().date()}\")"
   ]
  },
  {
   "cell_type": "code",
   "execution_count": null,
   "id": "f71fe542",
   "metadata": {},
   "outputs": [],
   "source": [
    "# 初日のデータを抽出\n",
    "first_timestamp = df_indexed.index.min() # 最初のタイムスタンプ\n",
    "first_date      = first_timestamp.date() # 最初の日付\n",
    "\n",
    "# 初日の全データを取得\n",
    "print(df_indexed[df_indexed.index.date == first_date])"
   ]
  },
  {
   "cell_type": "code",
   "execution_count": null,
   "id": "61a6fb3c",
   "metadata": {},
   "outputs": [],
   "source": [
    "# 初週（最初の7日間）のデータを抽出\n",
    "end_date   = first_date + timedelta(days=6) # 最初の日付から6日後まで\n",
    "first_week = df_indexed[(df_indexed.index.date >= first_date) & (df_indexed.index.date <= end_date)]"
   ]
  },
  {
   "cell_type": "markdown",
   "id": "5d0254c1",
   "metadata": {},
   "source": [
    "### リサンプリング\n",
    "- **'H'**: 1時間ごと → 時間別パターン分析\n",
    "- **'D'**: 1日ごと → 日次トレンド分析  \n",
    "- **'W'**: 1週間ごと → 週次変動の把握\n",
    "- **'M'**: 1月ごと → 長期トレンド分析"
   ]
  },
  {
   "cell_type": "code",
   "execution_count": null,
   "id": "6604280e",
   "metadata": {},
   "outputs": [],
   "source": [
    "# リサンプリング（1時間ごとの客数合計）\n",
    "hourly_data = df_indexed.resample('H')['Customers'].sum()\n",
    "\n",
    "# 1時間ごとの客数（最初の24時間）を表示\n",
    "print(hourly_data.head(24))"
   ]
  },
  {
   "cell_type": "markdown",
   "id": "683387d8",
   "metadata": {},
   "source": [
    "## 演習問題"
   ]
  },
  {
   "cell_type": "markdown",
   "id": "0c01b09c",
   "metadata": {},
   "source": [
    "### 演習1: 営業時間外のデータを除外して、1時間ごとの平均客数を計算してください\n",
    "\n",
    "💡ヒント: \n",
    "1. 営業時間（7:00-21:00）でフィルタリング\n",
    "2. Timestampをインデックスに設定\n",
    "3. resample('H')で1時間ごとに集約"
   ]
  },
  {
   "cell_type": "code",
   "execution_count": null,
   "id": "05a17ada",
   "metadata": {},
   "outputs": [],
   "source": [
    "# 回答欄\n"
   ]
  },
  {
   "cell_type": "markdown",
   "id": "a7dcd53b",
   "metadata": {},
   "source": [
    "### 演習2: 平日と週末それぞれの時間帯別平均客数を比較してください"
   ]
  },
  {
   "cell_type": "code",
   "execution_count": null,
   "id": "0069999a",
   "metadata": {},
   "outputs": [],
   "source": [
    "# 回答欄\n"
   ]
  }
 ],
 "metadata": {
  "kernelspec": {
   "display_name": ".myvenv",
   "language": "python",
   "name": "python3"
  },
  "language_info": {
   "codemirror_mode": {
    "name": "ipython",
    "version": 3
   },
   "file_extension": ".py",
   "mimetype": "text/x-python",
   "name": "python",
   "nbconvert_exporter": "python",
   "pygments_lexer": "ipython3",
   "version": "3.10.12"
  }
 },
 "nbformat": 4,
 "nbformat_minor": 5
}
